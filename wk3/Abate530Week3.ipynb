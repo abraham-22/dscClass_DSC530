{
 "cells": [
  {
   "cell_type": "markdown",
   "metadata": {},
   "source": [
    "##  Week 3: Preparing for Exploring Data Analysis Using Python\n",
    "\n",
    "*  Student Name: Abraham Abate\n",
    "*  Instructor: Cary Jim\n",
    "*  DSC 530: Data Exploration and Analysis\n",
    "*  Data Science Dept., BU\n",
    "*  Date: 06/22/2024"
   ]
  },
  {
   "cell_type": "markdown",
   "metadata": {},
   "source": [
    "## Excerise 1.1:"
   ]
  },
  {
   "cell_type": "code",
   "execution_count": 12,
   "metadata": {
    "colab": {
     "base_uri": "https://localhost:8080/"
    },
    "executionInfo": {
     "elapsed": 1866,
     "status": "ok",
     "timestamp": 1718907133592,
     "user": {
      "displayName": "Avram A4",
      "userId": "06952143822532744960"
     },
     "user_tz": 300
    },
    "id": "UxFdkNptt-ZP",
    "outputId": "76f1818b-1429-4781-9e8e-2ae6327066d0"
   },
   "outputs": [],
   "source": [
    "from os.path import basename, exists\n",
    "import numpy as np\n",
    "\n",
    "def download(url):\n",
    "    filename = basename(url)\n",
    "    if not exists(filename):\n",
    "        from urllib.request import urlretrieve\n",
    "\n",
    "        local, _ = urlretrieve(url, filename)\n",
    "        print(\"Downloaded \" + local)\n",
    "\n",
    "\n",
    "download(\"https://github.com/AllenDowney/ThinkStats2/raw/master/code/thinkstats2.py\")\n",
    "download(\"https://github.com/AllenDowney/ThinkStats2/raw/master/code/thinkplot.py\")\n",
    "download(\"https://github.com/AllenDowney/ThinkStats2/raw/master/code/nsfg.py\")\n",
    "download(\"https://github.com/AllenDowney/ThinkStats2/raw/master/code/2002FemPreg.dct\")\n",
    "download(\"https://github.com/AllenDowney/ThinkStats2/raw/master/code/2002FemPreg.dat.gz\")"
   ]
  },
  {
   "cell_type": "code",
   "execution_count": 13,
   "metadata": {
    "colab": {
     "base_uri": "https://localhost:8080/",
     "height": 255
    },
    "executionInfo": {
     "elapsed": 2516,
     "status": "ok",
     "timestamp": 1718907797191,
     "user": {
      "displayName": "Avram A4",
      "userId": "06952143822532744960"
     },
     "user_tz": 300
    },
    "id": "QTMZcUHat-ZQ",
    "outputId": "7e3106ea-6cfb-4e7f-d150-c12446fe6c9c"
   },
   "outputs": [
    {
     "data": {
      "text/html": [
       "<div>\n",
       "<style scoped>\n",
       "    .dataframe tbody tr th:only-of-type {\n",
       "        vertical-align: middle;\n",
       "    }\n",
       "\n",
       "    .dataframe tbody tr th {\n",
       "        vertical-align: top;\n",
       "    }\n",
       "\n",
       "    .dataframe thead th {\n",
       "        text-align: right;\n",
       "    }\n",
       "</style>\n",
       "<table border=\"1\" class=\"dataframe\">\n",
       "  <thead>\n",
       "    <tr style=\"text-align: right;\">\n",
       "      <th></th>\n",
       "      <th>caseid</th>\n",
       "      <th>pregordr</th>\n",
       "      <th>howpreg_n</th>\n",
       "      <th>howpreg_p</th>\n",
       "      <th>moscurrp</th>\n",
       "      <th>nowprgdk</th>\n",
       "      <th>pregend1</th>\n",
       "      <th>pregend2</th>\n",
       "      <th>nbrnaliv</th>\n",
       "      <th>multbrth</th>\n",
       "      <th>...</th>\n",
       "      <th>laborfor_i</th>\n",
       "      <th>religion_i</th>\n",
       "      <th>metro_i</th>\n",
       "      <th>basewgt</th>\n",
       "      <th>adj_mod_basewgt</th>\n",
       "      <th>finalwgt</th>\n",
       "      <th>secu_p</th>\n",
       "      <th>sest</th>\n",
       "      <th>cmintvw</th>\n",
       "      <th>totalwgt_lb</th>\n",
       "    </tr>\n",
       "  </thead>\n",
       "  <tbody>\n",
       "    <tr>\n",
       "      <th>0</th>\n",
       "      <td>1</td>\n",
       "      <td>1</td>\n",
       "      <td>NaN</td>\n",
       "      <td>NaN</td>\n",
       "      <td>NaN</td>\n",
       "      <td>NaN</td>\n",
       "      <td>6.0</td>\n",
       "      <td>NaN</td>\n",
       "      <td>1.0</td>\n",
       "      <td>NaN</td>\n",
       "      <td>...</td>\n",
       "      <td>0</td>\n",
       "      <td>0</td>\n",
       "      <td>0</td>\n",
       "      <td>3410.389399</td>\n",
       "      <td>3869.349602</td>\n",
       "      <td>6448.271112</td>\n",
       "      <td>2</td>\n",
       "      <td>9</td>\n",
       "      <td>NaN</td>\n",
       "      <td>8.8125</td>\n",
       "    </tr>\n",
       "    <tr>\n",
       "      <th>1</th>\n",
       "      <td>1</td>\n",
       "      <td>2</td>\n",
       "      <td>NaN</td>\n",
       "      <td>NaN</td>\n",
       "      <td>NaN</td>\n",
       "      <td>NaN</td>\n",
       "      <td>6.0</td>\n",
       "      <td>NaN</td>\n",
       "      <td>1.0</td>\n",
       "      <td>NaN</td>\n",
       "      <td>...</td>\n",
       "      <td>0</td>\n",
       "      <td>0</td>\n",
       "      <td>0</td>\n",
       "      <td>3410.389399</td>\n",
       "      <td>3869.349602</td>\n",
       "      <td>6448.271112</td>\n",
       "      <td>2</td>\n",
       "      <td>9</td>\n",
       "      <td>NaN</td>\n",
       "      <td>7.8750</td>\n",
       "    </tr>\n",
       "    <tr>\n",
       "      <th>2</th>\n",
       "      <td>2</td>\n",
       "      <td>1</td>\n",
       "      <td>NaN</td>\n",
       "      <td>NaN</td>\n",
       "      <td>NaN</td>\n",
       "      <td>NaN</td>\n",
       "      <td>5.0</td>\n",
       "      <td>NaN</td>\n",
       "      <td>3.0</td>\n",
       "      <td>5.0</td>\n",
       "      <td>...</td>\n",
       "      <td>0</td>\n",
       "      <td>0</td>\n",
       "      <td>0</td>\n",
       "      <td>7226.301740</td>\n",
       "      <td>8567.549110</td>\n",
       "      <td>12999.542264</td>\n",
       "      <td>2</td>\n",
       "      <td>12</td>\n",
       "      <td>NaN</td>\n",
       "      <td>9.1250</td>\n",
       "    </tr>\n",
       "    <tr>\n",
       "      <th>3</th>\n",
       "      <td>2</td>\n",
       "      <td>2</td>\n",
       "      <td>NaN</td>\n",
       "      <td>NaN</td>\n",
       "      <td>NaN</td>\n",
       "      <td>NaN</td>\n",
       "      <td>6.0</td>\n",
       "      <td>NaN</td>\n",
       "      <td>1.0</td>\n",
       "      <td>NaN</td>\n",
       "      <td>...</td>\n",
       "      <td>0</td>\n",
       "      <td>0</td>\n",
       "      <td>0</td>\n",
       "      <td>7226.301740</td>\n",
       "      <td>8567.549110</td>\n",
       "      <td>12999.542264</td>\n",
       "      <td>2</td>\n",
       "      <td>12</td>\n",
       "      <td>NaN</td>\n",
       "      <td>7.0000</td>\n",
       "    </tr>\n",
       "    <tr>\n",
       "      <th>4</th>\n",
       "      <td>2</td>\n",
       "      <td>3</td>\n",
       "      <td>NaN</td>\n",
       "      <td>NaN</td>\n",
       "      <td>NaN</td>\n",
       "      <td>NaN</td>\n",
       "      <td>6.0</td>\n",
       "      <td>NaN</td>\n",
       "      <td>1.0</td>\n",
       "      <td>NaN</td>\n",
       "      <td>...</td>\n",
       "      <td>0</td>\n",
       "      <td>0</td>\n",
       "      <td>0</td>\n",
       "      <td>7226.301740</td>\n",
       "      <td>8567.549110</td>\n",
       "      <td>12999.542264</td>\n",
       "      <td>2</td>\n",
       "      <td>12</td>\n",
       "      <td>NaN</td>\n",
       "      <td>6.1875</td>\n",
       "    </tr>\n",
       "  </tbody>\n",
       "</table>\n",
       "<p>5 rows × 244 columns</p>\n",
       "</div>"
      ],
      "text/plain": [
       "   caseid  pregordr  howpreg_n  howpreg_p  moscurrp  nowprgdk  pregend1  \\\n",
       "0       1         1        NaN        NaN       NaN       NaN       6.0   \n",
       "1       1         2        NaN        NaN       NaN       NaN       6.0   \n",
       "2       2         1        NaN        NaN       NaN       NaN       5.0   \n",
       "3       2         2        NaN        NaN       NaN       NaN       6.0   \n",
       "4       2         3        NaN        NaN       NaN       NaN       6.0   \n",
       "\n",
       "   pregend2  nbrnaliv  multbrth  ...  laborfor_i  religion_i  metro_i  \\\n",
       "0       NaN       1.0       NaN  ...           0           0        0   \n",
       "1       NaN       1.0       NaN  ...           0           0        0   \n",
       "2       NaN       3.0       5.0  ...           0           0        0   \n",
       "3       NaN       1.0       NaN  ...           0           0        0   \n",
       "4       NaN       1.0       NaN  ...           0           0        0   \n",
       "\n",
       "       basewgt  adj_mod_basewgt      finalwgt  secu_p  sest  cmintvw  \\\n",
       "0  3410.389399      3869.349602   6448.271112       2     9      NaN   \n",
       "1  3410.389399      3869.349602   6448.271112       2     9      NaN   \n",
       "2  7226.301740      8567.549110  12999.542264       2    12      NaN   \n",
       "3  7226.301740      8567.549110  12999.542264       2    12      NaN   \n",
       "4  7226.301740      8567.549110  12999.542264       2    12      NaN   \n",
       "\n",
       "   totalwgt_lb  \n",
       "0       8.8125  \n",
       "1       7.8750  \n",
       "2       9.1250  \n",
       "3       7.0000  \n",
       "4       6.1875  \n",
       "\n",
       "[5 rows x 244 columns]"
      ]
     },
     "execution_count": 13,
     "metadata": {},
     "output_type": "execute_result"
    }
   ],
   "source": [
    "# Read NSFG data into a Pandas DataFrame.\n",
    "import nsfg\n",
    "\n",
    "preg_df = nsfg.ReadFemPreg()\n",
    "preg_df.head()"
   ]
  },
  {
   "cell_type": "code",
   "execution_count": 14,
   "metadata": {
    "colab": {
     "base_uri": "https://localhost:8080/"
    },
    "executionInfo": {
     "elapsed": 186,
     "status": "ok",
     "timestamp": 1718907866895,
     "user": {
      "displayName": "Avram A4",
      "userId": "06952143822532744960"
     },
     "user_tz": 300
    },
    "id": "HdWCp2Vft-ZQ",
    "outputId": "7a462c2f-742c-488a-8b34-6b1439333547",
    "scrolled": false
   },
   "outputs": [
    {
     "data": {
      "text/plain": [
       "Index(['caseid', 'pregordr', 'howpreg_n', 'howpreg_p', 'moscurrp', 'nowprgdk',\n",
       "       'pregend1', 'pregend2', 'nbrnaliv', 'multbrth',\n",
       "       ...\n",
       "       'laborfor_i', 'religion_i', 'metro_i', 'basewgt', 'adj_mod_basewgt',\n",
       "       'finalwgt', 'secu_p', 'sest', 'cmintvw', 'totalwgt_lb'],\n",
       "      dtype='object', length=244)"
      ]
     },
     "execution_count": 14,
     "metadata": {},
     "output_type": "execute_result"
    }
   ],
   "source": [
    "# Print the column names.\n",
    "# attribute columns returns a sequence of column names\n",
    "preg_df.columns"
   ]
  },
  {
   "cell_type": "code",
   "execution_count": 15,
   "metadata": {},
   "outputs": [
    {
     "data": {
      "text/plain": [
       "0        1.0\n",
       "1        2.0\n",
       "2        1.0\n",
       "3        2.0\n",
       "4        3.0\n",
       "        ... \n",
       "13588    1.0\n",
       "13589    NaN\n",
       "13590    NaN\n",
       "13591    2.0\n",
       "13592    3.0\n",
       "Name: birthord, Length: 13593, dtype: float64"
      ]
     },
     "execution_count": 15,
     "metadata": {},
     "output_type": "execute_result"
    }
   ],
   "source": [
    "# Select the birthord column, print the value counts\n",
    "preg_df.birthord"
   ]
  },
  {
   "cell_type": "code",
   "execution_count": 16,
   "metadata": {},
   "outputs": [
    {
     "data": {
      "text/plain": [
       "4445"
      ]
     },
     "execution_count": 16,
     "metadata": {},
     "output_type": "execute_result"
    }
   ],
   "source": [
    "# use isnull to count the number of nans.\n",
    "preg_df.birthord.isnull().sum()"
   ]
  },
  {
   "cell_type": "code",
   "execution_count": 17,
   "metadata": {
    "scrolled": true
   },
   "outputs": [
    {
     "data": {
      "text/plain": [
       "0        1\n",
       "1        2\n",
       "2        1\n",
       "3        2\n",
       "4        3\n",
       "        ..\n",
       "13588    1\n",
       "13589    2\n",
       "13590    3\n",
       "13591    4\n",
       "13592    5\n",
       "Name: pregordr, Length: 13593, dtype: int64"
      ]
     },
     "execution_count": 17,
     "metadata": {},
     "output_type": "execute_result"
    }
   ],
   "source": [
    "# Select a column and print the column\n",
    "pregordr = preg_df['pregordr']\n",
    "pregordr"
   ]
  },
  {
   "cell_type": "code",
   "execution_count": 18,
   "metadata": {
    "scrolled": true
   },
   "outputs": [
    {
     "data": {
      "text/plain": [
       "1    9148\n",
       "2    1862\n",
       "3     120\n",
       "4    1921\n",
       "5     190\n",
       "6     352\n",
       "Name: outcome, dtype: int64"
      ]
     },
     "execution_count": 18,
     "metadata": {},
     "output_type": "execute_result"
    }
   ],
   "source": [
    "# Count the number of times each value occurs.\n",
    "preg_df.outcome.value_counts().sort_index()"
   ]
  },
  {
   "cell_type": "code",
   "execution_count": 19,
   "metadata": {
    "scrolled": true
   },
   "outputs": [
    {
     "data": {
      "text/plain": [
       "0        39\n",
       "1        39\n",
       "2        39\n",
       "3        39\n",
       "4        39\n",
       "         ..\n",
       "13588    39\n",
       "13589     6\n",
       "13590     5\n",
       "13591    39\n",
       "13592    39\n",
       "Name: prglngth, Length: 13593, dtype: int64"
      ]
     },
     "execution_count": 19,
     "metadata": {},
     "output_type": "execute_result"
    }
   ],
   "source": [
    "# Select the prglngth column, print the value counts\n",
    "preg_df.prglngth"
   ]
  },
  {
   "cell_type": "code",
   "execution_count": 20,
   "metadata": {},
   "outputs": [
    {
     "data": {
      "text/plain": [
       "7.265628457623368"
      ]
     },
     "execution_count": 20,
     "metadata": {},
     "output_type": "execute_result"
    }
   ],
   "source": [
    "# To compute the mean of a column, you can invoke the mean method on a Series.\n",
    "preg_df.totalwgt_lb.mean()"
   ]
  },
  {
   "cell_type": "code",
   "execution_count": 21,
   "metadata": {},
   "outputs": [
    {
     "data": {
      "text/plain": [
       "0        19.3875\n",
       "1        17.3250\n",
       "2        20.0750\n",
       "3        15.4000\n",
       "4        13.6125\n",
       "          ...   \n",
       "13588    13.6125\n",
       "13589        NaN\n",
       "13590        NaN\n",
       "13591    16.5000\n",
       "13592    16.5000\n",
       "Name: totalwgt_kg, Length: 13593, dtype: float64"
      ]
     },
     "execution_count": 21,
     "metadata": {},
     "output_type": "execute_result"
    }
   ],
   "source": [
    "# Create a new column named totalwgt_kg that contains birth weight in kilograms.\n",
    "preg_df[\"totalwgt_kg\"] = preg_df[\"totalwgt_lb\"] * 2.2\n",
    "preg_df[\"totalwgt_kg\"]"
   ]
  },
  {
   "cell_type": "markdown",
   "metadata": {
    "id": "F4BH1nDSt-ZO"
   },
   "source": [
    "## Excerise 1.2:\n",
    "* Write code that reads the respondent file, 2002FemResp.dat.gz. You might want to start with a copy of nsfg.py and modify it.\n",
    "* The variable pregnum is a recode that indicates how many times each respondent has been pregnant. Print the value counts for this variable and compare them to the published results in the NSFG codebook.\n",
    "* You can also cross-validate the respondent and pregnancy files by comparing pregnum for each respondent with the number of records in the pregnancy file.\n",
    "* You can use nsfg.MakePregMap to make a dictionary that maps from each caseid to a list of indices into the pregnancy DataFrame\n",
    "\n"
   ]
  },
  {
   "cell_type": "markdown",
   "metadata": {
    "id": "1gD2iqHUt-ZR"
   },
   "source": [
    "Select a column and check what type it is."
   ]
  },
  {
   "cell_type": "code",
   "execution_count": 22,
   "metadata": {
    "colab": {
     "base_uri": "https://localhost:8080/"
    },
    "executionInfo": {
     "elapsed": 171,
     "status": "ok",
     "timestamp": 1718908066565,
     "user": {
      "displayName": "Avram A4",
      "userId": "06952143822532744960"
     },
     "user_tz": 300
    },
    "id": "F5C1s_E5t-ZR",
    "outputId": "58077871-bf01-4869-dd76-3ef3ff1cd8cd"
   },
   "outputs": [
    {
     "data": {
      "text/plain": [
       "0        2\n",
       "1        2\n",
       "2        3\n",
       "3        3\n",
       "4        3\n",
       "        ..\n",
       "13588    5\n",
       "13589    5\n",
       "13590    5\n",
       "13591    5\n",
       "13592    5\n",
       "Name: pregnum, Length: 13593, dtype: int64"
      ]
     },
     "execution_count": 22,
     "metadata": {},
     "output_type": "execute_result"
    }
   ],
   "source": [
    "# access a column from a DataFrame\n",
    "preg_num = preg_df['pregnum']\n",
    "preg_num"
   ]
  },
  {
   "cell_type": "code",
   "execution_count": 23,
   "metadata": {
    "colab": {
     "base_uri": "https://localhost:8080/",
     "height": 203
    },
    "executionInfo": {
     "elapsed": 204,
     "status": "ok",
     "timestamp": 1718908069944,
     "user": {
      "displayName": "Avram A4",
      "userId": "06952143822532744960"
     },
     "user_tz": 300
    },
    "id": "r65a_CbZ51f8",
    "outputId": "cbe59453-69d8-4a10-8fb0-cfd6f4cc555f"
   },
   "outputs": [
    {
     "data": {
      "text/plain": [
       "pandas.core.series.Series"
      ]
     },
     "execution_count": 23,
     "metadata": {},
     "output_type": "execute_result"
    }
   ],
   "source": [
    "# check data type\n",
    "type(preg_num)"
   ]
  },
  {
   "cell_type": "code",
   "execution_count": 24,
   "metadata": {
    "colab": {
     "base_uri": "https://localhost:8080/"
    },
    "executionInfo": {
     "elapsed": 185,
     "status": "ok",
     "timestamp": 1718909366113,
     "user": {
      "displayName": "Avram A4",
      "userId": "06952143822532744960"
     },
     "user_tz": 300
    },
    "id": "lqirjHOtt-ZS",
    "outputId": "20da0542-0320-4806-886c-499febaa35dc"
   },
   "outputs": [
    {
     "data": {
      "text/plain": [
       "1     1267\n",
       "2     2864\n",
       "3     3330\n",
       "4     2444\n",
       "5     1525\n",
       "6      900\n",
       "7      560\n",
       "8      320\n",
       "9      189\n",
       "10      90\n",
       "11      33\n",
       "12      24\n",
       "14      28\n",
       "19      19\n",
       "Name: pregnum, dtype: int64"
      ]
     },
     "execution_count": 24,
     "metadata": {},
     "output_type": "execute_result"
    }
   ],
   "source": [
    "# count the number of times each respondent has been pregnant.\n",
    "pregnum_count = preg_df.pregnum.value_counts().sort_index()\n",
    "pregnum_count"
   ]
  },
  {
   "cell_type": "markdown",
   "metadata": {
    "id": "EJiPvT5zt-ZS"
   },
   "source": [
    "Make a dictionary that maps from each respondent's `caseid` to a list of indices into the pregnancy `DataFrame`.  Use it to select the pregnancy number for a single respondent."
   ]
  },
  {
   "cell_type": "code",
   "execution_count": 25,
   "metadata": {},
   "outputs": [
    {
     "data": {
      "text/plain": [
       "{19: 1,\n",
       " 14: 2,\n",
       " 12: 2,\n",
       " 11: 3,\n",
       " 10: 9,\n",
       " 9: 21,\n",
       " 8: 40,\n",
       " 7: 80,\n",
       " 6: 150,\n",
       " 5: 305,\n",
       " 4: 611,\n",
       " 3: 1110,\n",
       " 2: 1432,\n",
       " 1: 1267}"
      ]
     },
     "execution_count": 25,
     "metadata": {},
     "output_type": "execute_result"
    }
   ],
   "source": [
    "# Get the number of caseids using value count and convert it to a list\n",
    "preg_count = preg_df['caseid'].value_counts().tolist()\n",
    "\n",
    "# make a dictionary that maps from each caseid to a list of indices\n",
    "preg_ct_dict = {}\n",
    "\n",
    "for x in preg_count:\n",
    "    preg_ct_dict[x] = preg_ct_dict.get(x, 0) + 1\n",
    "\n",
    "preg_ct_dict"
   ]
  },
  {
   "cell_type": "code",
   "execution_count": 26,
   "metadata": {
    "scrolled": true
   },
   "outputs": [
    {
     "data": {
      "text/plain": [
       "[(1, 1267),\n",
       " (2, 1432),\n",
       " (3, 1110),\n",
       " (4, 611),\n",
       " (5, 305),\n",
       " (6, 150),\n",
       " (7, 80),\n",
       " (8, 40),\n",
       " (9, 21),\n",
       " (10, 9),\n",
       " (11, 3),\n",
       " (12, 2),\n",
       " (14, 2),\n",
       " (19, 1)]"
      ]
     },
     "execution_count": 26,
     "metadata": {},
     "output_type": "execute_result"
    }
   ],
   "source": [
    "# Sort the dictionary in descending order\n",
    "sorted_lst = sorted(preg_ct_dict.items())\n",
    "sorted_lst"
   ]
  },
  {
   "cell_type": "code",
   "execution_count": 27,
   "metadata": {},
   "outputs": [
    {
     "data": {
      "text/plain": [
       "29.531229309203265"
      ]
     },
     "execution_count": 27,
     "metadata": {},
     "output_type": "execute_result"
    }
   ],
   "source": [
    "# Average pregnancy length\n",
    "avg_preg_len = preg_df.prglngth.mean()\n",
    "avg_preg_len"
   ]
  },
  {
   "cell_type": "code",
   "execution_count": 28,
   "metadata": {},
   "outputs": [
    {
     "data": {
      "text/plain": [
       "count    1267.0\n",
       "mean        1.0\n",
       "std         0.0\n",
       "min         1.0\n",
       "25%         1.0\n",
       "50%         1.0\n",
       "75%         1.0\n",
       "max         1.0\n",
       "Name: pregnum, dtype: float64"
      ]
     },
     "execution_count": 28,
     "metadata": {},
     "output_type": "execute_result"
    }
   ],
   "source": [
    "# summary statistics for pregnancy number attribute with one baby\n",
    "one_pregnum = preg_df[preg_df[\"pregnum\"] == 1]\n",
    "one_pregnum[\"pregnum\"].describe()"
   ]
  },
  {
   "cell_type": "code",
   "execution_count": 29,
   "metadata": {},
   "outputs": [
    {
     "data": {
      "text/plain": [
       "29.82004735595896"
      ]
     },
     "execution_count": 29,
     "metadata": {},
     "output_type": "execute_result"
    }
   ],
   "source": [
    "# Mean pregnancy length for for first babies\n",
    "first_babies = preg_df[preg_df[\"pregnum\"] == 1]\n",
    "first_babies[\"prglngth\"].mean()"
   ]
  },
  {
   "cell_type": "code",
   "execution_count": 30,
   "metadata": {},
   "outputs": [
    {
     "data": {
      "text/plain": [
       "32.20635474860335"
      ]
     },
     "execution_count": 30,
     "metadata": {},
     "output_type": "execute_result"
    }
   ],
   "source": [
    "# Mean pregnancy length for for second babies\n",
    "sec_babies = preg_df[preg_df[\"pregnum\"] == 2]\n",
    "sec_babies[\"prglngth\"].mean()"
   ]
  },
  {
   "cell_type": "code",
   "execution_count": 31,
   "metadata": {},
   "outputs": [
    {
     "data": {
      "text/plain": [
       "30.80750750750751"
      ]
     },
     "execution_count": 31,
     "metadata": {},
     "output_type": "execute_result"
    }
   ],
   "source": [
    "# Mean pregnancy length for third, fourth,..babies\n",
    "other_babies = preg_df[preg_df[\"pregnum\"] == 3]\n",
    "other_babies[\"prglngth\"].mean()"
   ]
  },
  {
   "cell_type": "code",
   "execution_count": 32,
   "metadata": {},
   "outputs": [
    {
     "data": {
      "text/plain": [
       "count    1038.000000\n",
       "mean       27.365125\n",
       "std        13.938445\n",
       "min         0.000000\n",
       "25%        12.000000\n",
       "50%        37.000000\n",
       "75%        39.000000\n",
       "max        39.000000\n",
       "Name: prglngth, dtype: float64"
      ]
     },
     "execution_count": 32,
     "metadata": {},
     "output_type": "execute_result"
    }
   ],
   "source": [
    "# count how many babies born earlier than 40 weeks\n",
    "longer_preg_len = preg_df[(preg_df[\"prglngth\"] < 40) & (preg_df[\"pregnum\"] == 1)]\n",
    "longer_preg_len[\"prglngth\"].describe()"
   ]
  },
  {
   "cell_type": "code",
   "execution_count": 33,
   "metadata": {},
   "outputs": [
    {
     "data": {
      "text/plain": [
       "count    99.0\n",
       "mean     40.0\n",
       "std       0.0\n",
       "min      40.0\n",
       "25%      40.0\n",
       "50%      40.0\n",
       "75%      40.0\n",
       "max      40.0\n",
       "Name: prglngth, dtype: float64"
      ]
     },
     "execution_count": 33,
     "metadata": {},
     "output_type": "execute_result"
    }
   ],
   "source": [
    "# count how many babies born in 40 weeks\n",
    "normal_preg_len = preg_df[(preg_df[\"prglngth\"]== 40) & (preg_df[\"pregnum\"] == 1)]\n",
    "normal_preg_len[\"prglngth\"].describe()"
   ]
  },
  {
   "cell_type": "code",
   "execution_count": 34,
   "metadata": {},
   "outputs": [
    {
     "data": {
      "text/plain": [
       "count    130.000000\n",
       "mean      41.669231\n",
       "std        0.959558\n",
       "min       41.000000\n",
       "25%       41.000000\n",
       "50%       41.000000\n",
       "75%       42.000000\n",
       "max       47.000000\n",
       "Name: prglngth, dtype: float64"
      ]
     },
     "execution_count": 34,
     "metadata": {},
     "output_type": "execute_result"
    }
   ],
   "source": [
    "# count how many babies born longer than 40 weeks\n",
    "longer_preg_len = preg_df[(preg_df[\"prglngth\"] > 40) & (preg_df[\"pregnum\"] == 1)]\n",
    "longer_preg_len[\"prglngth\"].describe()"
   ]
  },
  {
   "cell_type": "code",
   "execution_count": 35,
   "metadata": {},
   "outputs": [
    {
     "name": "stdout",
     "output_type": "stream",
     "text": [
      "Percentage for early born first babies:  81.9258089976322\n",
      "Percentage for normal birth first babies:  7.813733228097869\n",
      "Percentage for late born first babies:  10.260457774269929\n"
     ]
    }
   ],
   "source": [
    "# percentage of  first babies born in early, at 40 weeks and late\n",
    "percent_early = (1038/1267) *100\n",
    "print(\"Percentage for early born first babies: \", percent_early)\n",
    "percent_normal = (99/1267) *100\n",
    "print(\"Percentage for normal birth first babies: \", percent_normal)\n",
    "percent_late = (130/1267) *100\n",
    "print(\"Percentage for late born first babies: \", percent_late)"
   ]
  },
  {
   "cell_type": "markdown",
   "metadata": {
    "collapsed": true,
    "id": "n2X0sHkKt-ZS"
   },
   "source": [
    "## Exercise 2-1"
   ]
  },
  {
   "cell_type": "markdown",
   "metadata": {
    "id": "-U9ox9E4t-ZS"
   },
   "source": [
    "Based on the results in this chapter, suppose you were asked to summarize what you learned about whether first babies arrive late.\n"
   ]
  },
  {
   "cell_type": "markdown",
   "metadata": {
    "id": "VaeY6IZbt-ZY"
   },
   "source": [
    "###### Which summary statistics would you use if you wanted to get a story on the evening news?\n",
    "I would utlize the mean, median and standard deviation. The mean and median will help us for describing the location (or typical value) of a set of measurements/data points mainly where the center is located. Variation always exists among pregrnancies, regardless of which characteristic you’re measuring, because not every individual pregnancies will have the same exact outcome for every characteristic you measure. So, for that matter, to measure the variablity we can use Standard deviation. \n",
    "\n",
    "###### Which ones would you use if you wanted to reassure an anxious patient?\n",
    "I would use the mean and Standard deviation here to show a comparative figure among different preganancies. This is to put the difference among different pregnancies in context.\n",
    "\n",
    "###### “Do first babies arrive late?” Write a paragraph that uses the results in this chapter to answer the question clearly, precisely, and honestly.\n",
    "While it’s true that only 7.8% of babies are born on their due dates, the idea that first babies are usually several days or even a week late isn’t entirely accurate. Looking at the average pregnancy length, first babies are born on 29.8 weeks and subsequent babies are born on 32.2 weeks. They’re more likely to be born early. We can validate that from the data analysis result, 81.9% of the first babies born earlier than 40 weeks and 10.3% of them born later than 40 weeks. Based on this analysis output, I would summize that the perception that first babies are usually late is incorrect and are in fact they were born earlier than other babies."
   ]
  },
  {
   "cell_type": "markdown",
   "metadata": {
    "id": "FG0Pj1Fwi1jF"
   },
   "source": [
    "## Exercise 2-4.\n",
    "* Using the variable totalwgt_lb, investigate whether first babies are lighter or heavier than others. Compute Cohen's d to quantify the difference between the groups. How does it compare to the difference in pregnancy length?"
   ]
  },
  {
   "cell_type": "code",
   "execution_count": 36,
   "metadata": {
    "id": "zyse1OPIt-ZY"
   },
   "outputs": [
    {
     "data": {
      "text/plain": [
       "7.173504146919432"
      ]
     },
     "execution_count": 36,
     "metadata": {},
     "output_type": "execute_result"
    }
   ],
   "source": [
    "# Mean weight of first babies\n",
    "avg_wt1 = preg_df[preg_df[\"pregnum\"] == 1]\n",
    "avg_wt1[\"totalwgt_lb\"].mean()"
   ]
  },
  {
   "cell_type": "code",
   "execution_count": 37,
   "metadata": {},
   "outputs": [
    {
     "data": {
      "text/plain": [
       "7.275117463998047"
      ]
     },
     "execution_count": 37,
     "metadata": {},
     "output_type": "execute_result"
    }
   ],
   "source": [
    "# Mean weight of other babies\n",
    "avg_wt2 = preg_df[preg_df[\"pregnum\"] > 1]\n",
    "avg_wt2[\"totalwgt_lb\"].mean()"
   ]
  },
  {
   "cell_type": "code",
   "execution_count": 38,
   "metadata": {},
   "outputs": [],
   "source": [
    "# Compute Cohen's d to quantify the difference between the groups.\n",
    "def CohenEffectSize(group1, group2):\n",
    "    \"\"\"Computes Cohen's effect size for two groups.\n",
    "\n",
    "    group1: Series or DataFrame\n",
    "    group2: Series or DataFrame\n",
    "\n",
    "    returns: float if the arguments are Series;\n",
    "             Series if the arguments are DataFrames\n",
    "    \"\"\"\n",
    "    diff = group1.mean() - group2.mean()\n",
    "\n",
    "    var1 = group1.var()\n",
    "    var2 = group2.var()\n",
    "    n1, n2 = len(group1), len(group2)\n",
    "\n",
    "    pooled_var = (n1 * var1 + n2 * var2) / (n1 + n2)\n",
    "    d = diff / np.sqrt(pooled_var)\n",
    "    return d"
   ]
  },
  {
   "cell_type": "code",
   "execution_count": 39,
   "metadata": {},
   "outputs": [
    {
     "data": {
      "text/plain": [
       "-0.07216530058667059"
      ]
     },
     "execution_count": 39,
     "metadata": {},
     "output_type": "execute_result"
    }
   ],
   "source": [
    "CohenEffectSize(avg_wt1[\"totalwgt_lb\"], avg_wt2[\"totalwgt_lb\"])"
   ]
  },
  {
   "cell_type": "markdown",
   "metadata": {},
   "source": [
    "##### Interpretation:\n",
    "* A Cohen’s d value of -0.072 indicates a small effect size. When interpreting Cohen’s d, negative values suggest that the treatment group (first babies) has a lower mean birth weight than the control group in this case other babies. However, in this case, the effect size is quite small, which means that the difference between the groups is not substantial. "
   ]
  },
  {
   "cell_type": "code",
   "execution_count": null,
   "metadata": {},
   "outputs": [],
   "source": []
  }
 ],
 "metadata": {
  "colab": {
   "provenance": []
  },
  "kernelspec": {
   "display_name": "Python 3 (ipykernel)",
   "language": "python",
   "name": "python3"
  },
  "language_info": {
   "codemirror_mode": {
    "name": "ipython",
    "version": 3
   },
   "file_extension": ".py",
   "mimetype": "text/x-python",
   "name": "python",
   "nbconvert_exporter": "python",
   "pygments_lexer": "ipython3",
   "version": "3.7.15"
  }
 },
 "nbformat": 4,
 "nbformat_minor": 1
}
